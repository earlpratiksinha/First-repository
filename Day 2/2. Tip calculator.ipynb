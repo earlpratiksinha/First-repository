{
 "cells": [
  {
   "cell_type": "code",
   "execution_count": 1,
   "metadata": {},
   "outputs": [
    {
     "name": "stdout",
     "output_type": "stream",
     "text": [
      "Welcome to the tip calculator.\n",
      "What was the total bill? $121\n",
      "What percentage tip would you like to give? 10, 12, or 15? 10\n",
      "How many people to split the bill? 5\n",
      "Each person should pay: $26.62\n"
     ]
    }
   ],
   "source": [
    "print(\"Welcome to the tip calculator.\")\n",
    "bill_amount = float(input(\"What was the total bill? $\"))\n",
    "tip_perc = float(input(\"What percentage tip would you like to give? 10, 12, or 15? \"))\n",
    "tip_perc /=100\n",
    "people_count = int(input(\"How many people to split the bill? \"))\n",
    "final_amt = round((bill_amount*(1+tip_perc))/people_count,2)\n",
    "print(f\"Each person should pay: ${final_amt}\")"
   ]
  },
  {
   "cell_type": "code",
   "execution_count": null,
   "metadata": {},
   "outputs": [],
   "source": []
  }
 ],
 "metadata": {
  "kernelspec": {
   "display_name": "Python 3",
   "language": "python",
   "name": "python3"
  },
  "language_info": {
   "codemirror_mode": {
    "name": "ipython",
    "version": 3
   },
   "file_extension": ".py",
   "mimetype": "text/x-python",
   "name": "python",
   "nbconvert_exporter": "python",
   "pygments_lexer": "ipython3",
   "version": "3.7.6"
  }
 },
 "nbformat": 4,
 "nbformat_minor": 4
}
