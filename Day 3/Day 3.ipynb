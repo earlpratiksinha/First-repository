{
 "cells": [
  {
   "cell_type": "code",
   "execution_count": null,
   "metadata": {},
   "outputs": [],
   "source": [
    "# Day 3\n",
    "\n",
    "# if condition:\n",
    "#     do this\n",
    "# else:\n",
    "#     do this\n"
   ]
  },
  {
   "cell_type": "code",
   "execution_count": null,
   "metadata": {},
   "outputs": [],
   "source": [
    "# water_level = 50\n",
    "# if water_level > 80:\n",
    "#     (\"Drain Water\")\n",
    "# else:\n",
    "#     print(\"Continue\")"
   ]
  },
  {
   "cell_type": "code",
   "execution_count": 4,
   "metadata": {},
   "outputs": [
    {
     "name": "stdout",
     "output_type": "stream",
     "text": [
      "Welcome to the rollercoaster!\n",
      "What is your height in cm? 120\n",
      "You can ride the rollercoaster!\n"
     ]
    }
   ],
   "source": [
    "print(\"Welcome to the rollercoaster!\")\n",
    "height = int(input(\"What is your height in cm? \"))\n",
    "\n",
    "if height >= 120:\n",
    "    print(\"You can ride the rollercoaster!\")\n",
    "else:\n",
    "    print(\"Sorry! You have to grow taller before you can ride.\")    "
   ]
  },
  {
   "cell_type": "code",
   "execution_count": 1,
   "metadata": {},
   "outputs": [
    {
     "name": "stdout",
     "output_type": "stream",
     "text": [
      "Enter a number: 5\n",
      "5 is odd\n"
     ]
    }
   ],
   "source": [
    "#Check odd or even\n",
    "\n",
    "num = int(input(\"Enter a number: \"))\n",
    "if num%2==0:\n",
    "    print(f\"{num} is even\")\n",
    "else:\n",
    "    print(f\"{num} is odd\")    "
   ]
  },
  {
   "cell_type": "code",
   "execution_count": 13,
   "metadata": {},
   "outputs": [],
   "source": [
    "#Nested if/else\n",
    "\n",
    "# if condition:\n",
    "#     if another condition:\n",
    "#         do this\n",
    "#     else:\n",
    "#         do this\n",
    "# else:\n",
    "#     do this"
   ]
  },
  {
   "cell_type": "code",
   "execution_count": 3,
   "metadata": {},
   "outputs": [
    {
     "name": "stdout",
     "output_type": "stream",
     "text": [
      "Welcome to the rollercoaster!\n",
      "What is your height in cm? 100\n",
      "Sorry! You have to grow taller before you can ride.\n"
     ]
    }
   ],
   "source": [
    "print(\"Welcome to the rollercoaster!\")\n",
    "height = int(input(\"What is your height in cm? \"))\n",
    "\n",
    "if height >= 120:\n",
    "    print(\"You can ride the rollercoaster!\")\n",
    "    age = int(input(\"Enter you age: \"))\n",
    "    if age <=12:\n",
    "        print(\"Please pay $5\")\n",
    "    elif 12 < age <= 18:\n",
    "        print(\"Please pay $7\")\n",
    "    else:\n",
    "        print(\"Please pay $12\")\n",
    "else:\n",
    "    print(\"Sorry! You have to grow taller before you can ride.\")  "
   ]
  },
  {
   "cell_type": "code",
   "execution_count": 1,
   "metadata": {},
   "outputs": [
    {
     "name": "stdout",
     "output_type": "stream",
     "text": [
      "enter your height in m: 1.65\n",
      "enter your weight in kg: 68\n",
      "Your BMI is 24, you have a normal weight.\n"
     ]
    }
   ],
   "source": [
    "# 🚨 Don't change the code below 👇\n",
    "height = float(input(\"enter your height in m: \"))\n",
    "weight = float(input(\"enter your weight in kg: \"))\n",
    "# 🚨 Don't change the code above 👆\n",
    "\n",
    "#Write your code below this line 👇\n",
    "\n",
    "bmi = int(round(weight/(height**2),2))\n",
    "\n",
    "if bmi < 18.5:\n",
    "    print(f\"Your BMI is {bmi}, you are underweight.\")\n",
    "elif bmi < 25:\n",
    "    print(f\"Your BMI is {bmi}, you have a normal weight.\")\n",
    "elif bmi < 30:\n",
    "    print(f\"Your BMI is {bmi}, you are slightly overweight.\")\n",
    "elif bmi < 35:\n",
    "    print(f\"Your BMI is {bmi}, you are obese.\")\n",
    "else:\n",
    "    print(f\"Your BMI is {bmi}, you are clinically obese.\")"
   ]
  },
  {
   "cell_type": "code",
   "execution_count": 5,
   "metadata": {},
   "outputs": [
    {
     "name": "stdout",
     "output_type": "stream",
     "text": [
      "Enter an  year: 2020\n",
      "Leap year.\n"
     ]
    }
   ],
   "source": [
    "#Leap year\n",
    "year = int(input(\"Enter an  year: \"))\n",
    "if year%4==0:\n",
    "    if year%100==0:\n",
    "        if year%400==0:\n",
    "            print(\"Leap year\")\n",
    "        else:\n",
    "            print(\"Not leap year.\")\n",
    "    else:\n",
    "        print(\"Leap year.\")\n",
    "else:\n",
    "    print(\"Not leap year.\")"
   ]
  },
  {
   "cell_type": "code",
   "execution_count": 9,
   "metadata": {},
   "outputs": [
    {
     "name": "stdout",
     "output_type": "stream",
     "text": [
      "Welcome to the rollercoaster!\n",
      "What is your height in cm? 121\n",
      "You can ride the rollercoaster!\n",
      "Enter you age: 2\n",
      "Child ticket are $5\n",
      "Do you want a photo taken? Y or N. 2\n",
      "Your total bill value is: $5\n"
     ]
    }
   ],
   "source": [
    "print(\"Welcome to the rollercoaster!\")\n",
    "height = int(input(\"What is your height in cm? \"))\n",
    "bill = 0\n",
    "if height >= 120:\n",
    "    print(\"You can ride the rollercoaster!\")\n",
    "    age = int(input(\"Enter you age: \"))\n",
    "    if age <=12:\n",
    "        print(\"Child ticket are $5\")\n",
    "        bill = 5\n",
    "    elif 12 < age <= 18:\n",
    "        print(\"Youth tickets are $7\")\n",
    "        bill = 7\n",
    "    else:\n",
    "        print(\"Adult tickets are $12\")\n",
    "        bill = 12\n",
    "    photo = input(\"Do you want a photo taken? Y or N. \")\n",
    "    if photo == \"Y\":\n",
    "        bill += 3\n",
    "    print(f\"Your total bill value is: ${bill}\")\n",
    "else:\n",
    "    print(\"Sorry! You have to grow taller before you can ride.\")  "
   ]
  },
  {
   "cell_type": "code",
   "execution_count": 10,
   "metadata": {},
   "outputs": [
    {
     "name": "stdout",
     "output_type": "stream",
     "text": [
      "Welcome to Python Pizza Deliveries!\n",
      "What size pizza do you want? S, M, or L M\n",
      "Do you want pepperoni? Y or N Y\n",
      "Do you want extra cheese? Y or N Y\n",
      "Your final bill is $24.\n"
     ]
    }
   ],
   "source": [
    "print(\"Welcome to Python Pizza Deliveries!\")\n",
    "size = input(\"What size pizza do you want? S, M, or L \")\n",
    "add_pepperoni = input(\"Do you want pepperoni? Y or N \")\n",
    "extra_cheese = input(\"Do you want extra cheese? Y or N \")\n",
    "bill = 0\n",
    "\n",
    "if size == \"S\":\n",
    "    bill += 15\n",
    "    if add_pepperoni == \"Y\":\n",
    "        bill+= 2\n",
    "elif size ==\"M\":\n",
    "    bill += 20\n",
    "    if add_pepperoni == \"Y\":\n",
    "        bill+= 3\n",
    "elif size == \"L\":\n",
    "    bill += 25\n",
    "    if add_pepperoni == \"Y\":\n",
    "        bill+= 3\n",
    "\n",
    "if extra_cheese == \"Y\":\n",
    "    bill+= 1\n",
    "\n",
    "print(f\"Your final bill is ${bill}.\")"
   ]
  },
  {
   "cell_type": "code",
   "execution_count": null,
   "metadata": {},
   "outputs": [],
   "source": [
    "#Check multiple coditions in one line of code\n",
    "\n",
    "if condition1 & condition2 & condition3:\n",
    "    do this\n",
    "else:\n",
    "    do this"
   ]
  },
  {
   "cell_type": "code",
   "execution_count": null,
   "metadata": {},
   "outputs": [],
   "source": [
    "#Logical operator\n",
    "\n",
    "# A and B = both needs to be true\n",
    "# C or D = any one\n",
    "# not E"
   ]
  },
  {
   "cell_type": "code",
   "execution_count": 11,
   "metadata": {},
   "outputs": [
    {
     "name": "stdout",
     "output_type": "stream",
     "text": [
      "Welcome to the rollercoaster!\n",
      "What is your height in cm? 165\n",
      "You can ride the rollercoaster!\n",
      "Enter you age: 46\n",
      "Eveything is  going to be ok. Have a free ride on us!\n",
      "Do you want a photo taken? Y or N. Y\n",
      "Your total bill value is: $3\n"
     ]
    }
   ],
   "source": [
    "print(\"Welcome to the rollercoaster!\")\n",
    "height = int(input(\"What is your height in cm? \"))\n",
    "bill = 0\n",
    "if height >= 120:\n",
    "    print(\"You can ride the rollercoaster!\")\n",
    "    age = int(input(\"Enter you age: \"))\n",
    "    if age <=12:\n",
    "        print(\"Child ticket are $5\")\n",
    "        bill = 5\n",
    "    elif 12 < age <= 18:\n",
    "        print(\"Youth tickets are $7\")\n",
    "        bill = 7\n",
    "    elif age >= 45 and age <=55:\n",
    "        print(\"Eveything is  going to be ok. Have a free ride on us!\")\n",
    "    else:\n",
    "        print(\"Adult tickets are $12\")\n",
    "        bill = 12\n",
    "    photo = input(\"Do you want a photo taken? Y or N. \")\n",
    "    if photo == \"Y\":\n",
    "        bill += 3\n",
    "    print(f\"Your total bill value is: ${bill}\")\n",
    "else:\n",
    "    print(\"Sorry! You have to grow taller before you can ride.\")  \n"
   ]
  },
  {
   "cell_type": "code",
   "execution_count": null,
   "metadata": {},
   "outputs": [],
   "source": [
    "#Building a love calculator"
   ]
  },
  {
   "cell_type": "code",
   "execution_count": 8,
   "metadata": {},
   "outputs": [
    {
     "name": "stdout",
     "output_type": "stream",
     "text": [
      "Welcome to the Love Calculator!\n",
      "What is your name? \n",
      "a\n",
      "What is their name? \n",
      "\n",
      "Your score is 0, you go together like coke and mentos.\n"
     ]
    }
   ],
   "source": [
    "\n",
    "print(\"Welcome to the Love Calculator!\")\n",
    "name1 = input(\"What is your name? \\n\")\n",
    "name2 = input(\"What is their name? \\n\")\n",
    "\n",
    "name3 = (name1+name2).lower()\n",
    "T = name3.count(\"t\")\n",
    "R = name3.count(\"r\")\n",
    "U = name3.count(\"u\")\n",
    "E = name3.count(\"e\")\n",
    "\n",
    "L = name3.count(\"l\")\n",
    "O = name3.count(\"o\")\n",
    "V = name3.count(\"v\")\n",
    "E = name3.count(\"e\")\n",
    "\n",
    "tot1 = T+R+U+E\n",
    "tot2 = L+O+V+E\n",
    "\n",
    "tot = int(str(tot1)+str(tot2))\n",
    "\n",
    "if tot > 90 or tot <10:\n",
    "    print(f\"Your score is {tot}, you go together like coke and mentos.\")\n",
    "elif 40 < tot < 50:\n",
    "    print(f\"Your score is {tot}, you are alright together.\")\n",
    "else:\n",
    "    print(f\"Your score is {tot}.\")"
   ]
  },
  {
   "cell_type": "code",
   "execution_count": 14,
   "metadata": {},
   "outputs": [
    {
     "name": "stdout",
     "output_type": "stream",
     "text": [
      "Welcome to Treasure Island.\n",
      "Your mission is to find the treasure.\n",
      "left or right?left\n",
      "swim or waitwait\n",
      "Which door? Blue, Yellow or Red?yellow\n",
      "You Win!\n"
     ]
    }
   ],
   "source": [
    "print(\"Welcome to Treasure Island.\")\n",
    "print(\"Your mission is to find the treasure.\")\n",
    "\n",
    "a = input(\"left or right?\")\n",
    "if a.lower() == \"left\":\n",
    "    b = input(\"swim or wait\")\n",
    "    if b.lower() == \"wait\":\n",
    "        c = input(\"Which door? Blue, Yellow or Red?\")\n",
    "        if c.lower() == \"yellow\":\n",
    "            print(\"You Win!\")\n",
    "        elif c.lower() == \"red\":\n",
    "            print(\"Burned by fire.\\nGame Over\")\n",
    "        elif c.lower() == \"blue\":\n",
    "            print(\"Eaten by beasts.\\nGame Over\")\n",
    "        else:\n",
    "            print(\"Game Over.\")\n",
    "    else:\n",
    "        print(\"Attacked by trout.\\nGame Over.\")\n",
    "    \n",
    "else:\n",
    "    print(\"Fall into a hole.\\nGame Over.\")"
   ]
  },
  {
   "cell_type": "markdown",
   "metadata": {},
   "source": [
    "#### Complete"
   ]
  }
 ],
 "metadata": {
  "kernelspec": {
   "display_name": "Python 3",
   "language": "python",
   "name": "python3"
  },
  "language_info": {
   "codemirror_mode": {
    "name": "ipython",
    "version": 3
   },
   "file_extension": ".py",
   "mimetype": "text/x-python",
   "name": "python",
   "nbconvert_exporter": "python",
   "pygments_lexer": "ipython3",
   "version": "3.7.6"
  }
 },
 "nbformat": 4,
 "nbformat_minor": 4
}
