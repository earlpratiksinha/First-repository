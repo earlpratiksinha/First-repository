{
 "cells": [
  {
   "cell_type": "code",
   "execution_count": null,
   "metadata": {},
   "outputs": [
    {
     "name": "stdout",
     "output_type": "stream",
     "text": [
      "There are 6 letters in the word!\n",
      "['_', '_', '_', '_', '_', '_']\n",
      "Guess a letter:  1\n",
      "['_', '_', '_', '_', '_', '_']\n",
      "\n",
      "  +---+\n",
      "  |   |\n",
      "  O   |\n",
      "      |\n",
      "      |\n",
      "      |\n",
      "=========\n",
      "\n",
      "Number of guesses left: 6\n",
      "Alphabets guessed: 1\n"
     ]
    }
   ],
   "source": [
    "import random\n",
    "from hangman0 import stages\n",
    "\n",
    "word_list = [\"shershaah\", \"drishyam\", \"sherni\", \"sholay\", ]\n",
    "total_lives = len(stages)\n",
    "end_of_game = False\n",
    "chosen_word = word_list[random.randint(0, len(word_list)-1)]\n",
    "\n",
    "display_list = []\n",
    "for _ in range (len(chosen_word)):\n",
    "    display_list.append(\"_\")\n",
    "print(f\"There are {len(chosen_word)} letters in the word!\")\n",
    "print(display_list)\n",
    "guessed = \"\"\n",
    "while not end_of_game:\n",
    "    guess = input(\"Guess a letter:  \").lower()\n",
    "    guessed = guessed+guess\n",
    "    i=0\n",
    "    correct = 0\n",
    "    for letter in chosen_word:\n",
    "        if letter == guess:\n",
    "            display_list[i] = letter\n",
    "            correct +=1\n",
    "        i+=1\n",
    "    if guess not in chosen_word:\n",
    "        total_lives -= 1\n",
    "        if total_lives == 0:\n",
    "            end_of_game = True\n",
    "            print(\"You lose.\")\n",
    "    if \"_\" not in display_list:\n",
    "        end_of_game = True\n",
    "        print(\"You Win!\")\n",
    "    print(display_list)\n",
    "    print(stages[total_lives-1])\n",
    "    print(f\"Number of guesses left: {total_lives}\")\n",
    "    print(f\"Alphabets guessed: {guessed}\")\n",
    "print(f\"Answer is {chosen_word}\")\n",
    "print(\"Thank you for playing!\")"
   ]
  },
  {
   "cell_type": "code",
   "execution_count": null,
   "metadata": {},
   "outputs": [],
   "source": [
    "total_livesq\n"
   ]
  },
  {
   "cell_type": "code",
   "execution_count": 4,
   "metadata": {},
   "outputs": [
    {
     "data": {
      "text/plain": [
       "['b', 'a', 'b', 'o', 'o', 'n']"
      ]
     },
     "execution_count": 4,
     "metadata": {},
     "output_type": "execute_result"
    }
   ],
   "source": [
    "display_list"
   ]
  },
  {
   "cell_type": "code",
   "execution_count": 52,
   "metadata": {},
   "outputs": [
    {
     "name": "stdout",
     "output_type": "stream",
     "text": [
      "There are 8 letters in the word!\n",
      "['_', '_', '_', '_', '_', '_', '_', '_']\n"
     ]
    }
   ],
   "source": []
  },
  {
   "cell_type": "code",
   "execution_count": null,
   "metadata": {},
   "outputs": [],
   "source": []
  }
 ],
 "metadata": {
  "kernelspec": {
   "display_name": "Python 3",
   "language": "python",
   "name": "python3"
  },
  "language_info": {
   "codemirror_mode": {
    "name": "ipython",
    "version": 3
   },
   "file_extension": ".py",
   "mimetype": "text/x-python",
   "name": "python",
   "nbconvert_exporter": "python",
   "pygments_lexer": "ipython3",
   "version": "3.7.6"
  }
 },
 "nbformat": 4,
 "nbformat_minor": 4
}
