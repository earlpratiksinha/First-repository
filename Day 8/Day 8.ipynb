{
 "cells": [
  {
   "cell_type": "code",
   "execution_count": 9,
   "metadata": {},
   "outputs": [
    {
     "name": "stdout",
     "output_type": "stream",
     "text": [
      "Hello Jethalal\n",
      "How are you Jethalal?\n",
      "Nice to meet you Jethalal!\n"
     ]
    }
   ],
   "source": [
    "def greet(name):\n",
    "    print(f\"Hello {name}\")\n",
    "    print(f\"How are you {name}?\")\n",
    "    print(f\"Nice to meet you {name}!\")\n",
    "    \n",
    "greet('Jethalal')\n",
    "\n",
    "#name is parameter- function that allows for input\n",
    "#Jethalal is argument"
   ]
  },
  {
   "cell_type": "code",
   "execution_count": 10,
   "metadata": {},
   "outputs": [
    {
     "name": "stdout",
     "output_type": "stream",
     "text": [
      "Hello Jethalal\n",
      "How are you Jethalal?\n",
      "What it is like in Bangalore!\n"
     ]
    }
   ],
   "source": [
    "#Function with more than 1 inputs\n",
    "\n",
    "def greet_with(name, location):\n",
    "    print(f\"Hello {name}\")\n",
    "    print(f\"How are you {name}?\")\n",
    "    print(f\"What it is like in {location}!\")\n",
    "    \n",
    "greet_with(\"Jethalal\", \"Bangalore\")"
   ]
  },
  {
   "cell_type": "code",
   "execution_count": 12,
   "metadata": {},
   "outputs": [
    {
     "name": "stdout",
     "output_type": "stream",
     "text": [
      "Hello Bangalore\n",
      "How are you Bangalore?\n",
      "What it is like in Jethalal!\n"
     ]
    }
   ],
   "source": [
    "def greet_with(name, location):\n",
    "    print(f\"Hello {name}\")\n",
    "    print(f\"How are you {name}?\")\n",
    "    print(f\"What it is like in {location}!\")\n",
    "    \n",
    "greet_with(\"Bangalore\", \"Jethalal\")\n",
    "\n",
    "#Positional argument\n",
    "\n",
    "#You can use keyword argument, def function(a=\"something\", b=\"something\")"
   ]
  },
  {
   "cell_type": "code",
   "execution_count": 14,
   "metadata": {},
   "outputs": [
    {
     "name": "stdout",
     "output_type": "stream",
     "text": [
      "Hello Jethalal\n",
      "How are you Jethalal?\n",
      "What it is like in {}!\n"
     ]
    }
   ],
   "source": [
    "def greet_with(name, **location):\n",
    "    print(f\"Hello {name}\")\n",
    "    print(f\"How are you {name}?\")\n",
    "    print(f\"What it is like in {location}!\")\n",
    "    \n",
    "greet_with(\"Jethalal\")\n",
    "\n",
    "#Optional arguments with **"
   ]
  },
  {
   "cell_type": "code",
   "execution_count": 15,
   "metadata": {},
   "outputs": [
    {
     "name": "stdout",
     "output_type": "stream",
     "text": [
      "Height of wall: 3\n",
      "Width of wall: 9\n",
      "You'll need 6 cans of paint.\n"
     ]
    }
   ],
   "source": [
    "import math\n",
    "def paint_calc(height, width, cover):\n",
    "    number_of_cans = math.ceil((height * width) / cover)\n",
    "    print(f\"You'll need {number_of_cans} cans of paint.\")\n",
    "\n",
    "test_h = int(input(\"Height of wall: \"))\n",
    "test_w = int(input(\"Width of wall: \"))\n",
    "coverage = 5\n",
    "paint_calc(height=test_h, width=test_w, cover=coverage)"
   ]
  },
  {
   "cell_type": "code",
   "execution_count": 39,
   "metadata": {},
   "outputs": [],
   "source": [
    "# Prime number checker\n",
    "\n",
    "def prime_checker(number):\n",
    "    count = 0\n",
    "    for i in range(2,number):\n",
    "        if number % i == 0:\n",
    "            count+=1\n",
    "    if count > 0:\n",
    "        print(\"It's not a prime number.\")\n",
    "    else:\n",
    "        print(\"It's a prime number.\")"
   ]
  },
  {
   "cell_type": "code",
   "execution_count": 22,
   "metadata": {},
   "outputs": [
    {
     "name": "stdout",
     "output_type": "stream",
     "text": [
      "Type 'encode' to encrypt, type 'decode' to decrypt:\n",
      "encode\n",
      "Type your message:\n",
      "hello\n",
      "Type the shift number:\n",
      "5\n",
      "mjqqt\n"
     ]
    }
   ],
   "source": [
    "alphabet = ['a', 'b', 'c', 'd', 'e', 'f', 'g', 'h', 'i', 'j', 'k', 'l', 'm', 'n', 'o', 'p', 'q', 'r', 's', 't', 'u', 'v', 'w', 'x', 'y', 'z','a', 'b', 'c', 'd', 'e', 'f', 'g', 'h', 'i', 'j', 'k', 'l', 'm', 'n', 'o', 'p', 'q', 'r', 's', 't', 'u', 'v', 'w', 'x', 'y', 'z']\n",
    "\n",
    "direction = input(\"Type 'encode' to encrypt, type 'decode' to decrypt:\\n\").lower()\n",
    "text = input(\"Type your message:\\n\").lower()\n",
    "shift = int(input(\"Type the shift number:\\n\"))\n",
    "\n",
    "def encrypt(plain_text, shift_amount):\n",
    "    cipher_text =\"\"\n",
    "    for letter in plain_text:\n",
    "        position = alphabet.index(letter)\n",
    "        new_position = position + shift_amount\n",
    "        new_letter = alphabet[new_position]\n",
    "        cipher_text +=new_letter\n",
    "    print(cipher_text)\n",
    "\n",
    "def decrypt(cipher_text, shift_amount):\n",
    "    plain_text = \"\"\n",
    "    for letter in cipher_text:\n",
    "        position = alphabet.index(letter)\n",
    "        new_position = position - shift_amount\n",
    "        new_letter = alphabet[new_position]\n",
    "        plain_text +=new_letter\n",
    "    print(plain_text)\n",
    "    \n",
    "if direction == \"encode\":\n",
    "    encrypt(plain_text= text, shift_amount = shift)\n",
    "elif direction == \"decode\":\n",
    "    decrypt(cipher_text= text, shift_amount = shift)"
   ]
  },
  {
   "cell_type": "code",
   "execution_count": 29,
   "metadata": {},
   "outputs": [
    {
     "name": "stdout",
     "output_type": "stream",
     "text": [
      "Type 'encode' to encrypt, type 'decode' to decrypt:\n",
      "encode\n",
      "Type your message:\n",
      "hello\n",
      "Type the shift number:\n",
      "265\n",
      "mjqqt\n"
     ]
    }
   ],
   "source": [
    "alphabet = ['a', 'b', 'c', 'd', 'e', 'f', 'g', 'h', 'i', 'j', 'k', 'l', 'm', 'n', 'o', 'p', 'q', 'r', 's', 't', 'u', 'v', 'w', 'x', 'y', 'z','a', 'b', 'c', 'd', 'e', 'f', 'g', 'h', 'i', 'j', 'k', 'l', 'm', 'n', 'o', 'p', 'q', 'r', 's', 't', 'u', 'v', 'w', 'x', 'y', 'z']\n",
    "\n",
    "direction = input(\"Type 'encode' to encrypt, type 'decode' to decrypt:\\n\").lower()\n",
    "text = input(\"Type your message:\\n\").lower()\n",
    "shift = int(input(\"Type the shift number:\\n\"))\n",
    "shift = shift % 25\n",
    "\n",
    "def caesar(c_direction,plain_text, shift_amount):\n",
    "    cipher_text =\"\"\n",
    "    for letter in plain_text:\n",
    "        position = alphabet.index(letter)\n",
    "        if c_direction=='encode':\n",
    "            new_position = position + shift_amount\n",
    "            new_letter = alphabet[new_position]\n",
    "        else:\n",
    "            new_position = position - shift_amount\n",
    "            new_letter = alphabet[new_position]\n",
    "        cipher_text +=new_letter\n",
    "    print(cipher_text)\n",
    "\n",
    "caesar(c_direction=direction,plain_text=text, shift_amount=shift)"
   ]
  },
  {
   "cell_type": "code",
   "execution_count": null,
   "metadata": {},
   "outputs": [],
   "source": [
    "#Use % in case of large number being used as shift\n",
    "#shift = shift % 26"
   ]
  },
  {
   "cell_type": "code",
   "execution_count": null,
   "metadata": {},
   "outputs": [],
   "source": []
  },
  {
   "cell_type": "code",
   "execution_count": null,
   "metadata": {},
   "outputs": [],
   "source": []
  },
  {
   "cell_type": "code",
   "execution_count": null,
   "metadata": {},
   "outputs": [],
   "source": []
  }
 ],
 "metadata": {
  "kernelspec": {
   "display_name": "Python 3",
   "language": "python",
   "name": "python3"
  },
  "language_info": {
   "codemirror_mode": {
    "name": "ipython",
    "version": 3
   },
   "file_extension": ".py",
   "mimetype": "text/x-python",
   "name": "python",
   "nbconvert_exporter": "python",
   "pygments_lexer": "ipython3",
   "version": "3.7.6"
  }
 },
 "nbformat": 4,
 "nbformat_minor": 4
}
