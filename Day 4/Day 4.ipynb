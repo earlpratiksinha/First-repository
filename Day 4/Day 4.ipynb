{
 "cells": [
  {
   "cell_type": "code",
   "execution_count": 9,
   "metadata": {},
   "outputs": [],
   "source": [
    "# Randomisation in Python lists\n",
    "import random"
   ]
  },
  {
   "cell_type": "code",
   "execution_count": 2,
   "metadata": {},
   "outputs": [],
   "source": [
    "for i in range (10):\n",
    "    #print(random.randint(1,10))\n",
    "    continue"
   ]
  },
  {
   "cell_type": "code",
   "execution_count": 3,
   "metadata": {},
   "outputs": [
    {
     "name": "stdout",
     "output_type": "stream",
     "text": [
      "4.748406719841952\n"
     ]
    }
   ],
   "source": [
    "#Random numbers from 0 to 5\n",
    "random_float = random.random()*5\n",
    "print(random_float)"
   ]
  },
  {
   "cell_type": "code",
   "execution_count": 4,
   "metadata": {},
   "outputs": [
    {
     "name": "stdout",
     "output_type": "stream",
     "text": [
      "Your love score is 86\n"
     ]
    }
   ],
   "source": [
    "love_score  = random.randint(1,100)\n",
    "print(f\"Your love score is {love_score}\")"
   ]
  },
  {
   "cell_type": "code",
   "execution_count": 8,
   "metadata": {},
   "outputs": [
    {
     "name": "stdout",
     "output_type": "stream",
     "text": [
      "Tails\n"
     ]
    }
   ],
   "source": [
    "#Head or tail\n",
    "\n",
    "outcome = random.randint(0,1)\n",
    "# a = input(\"C\")\n",
    "if outcome == 0:\n",
    "    print(\"Heads\")\n",
    "else:\n",
    "    print(\"Tails\")"
   ]
  },
  {
   "cell_type": "code",
   "execution_count": null,
   "metadata": {},
   "outputs": [],
   "source": [
    "sAGUN\n",
    "0"
   ]
  },
  {
   "cell_type": "code",
   "execution_count": 10,
   "metadata": {},
   "outputs": [
    {
     "data": {
      "text/plain": [
       "'Strawberries'"
      ]
     },
     "execution_count": 10,
     "metadata": {},
     "output_type": "execute_result"
    }
   ],
   "source": [
    "# Python lists - it is a data structure.\n",
    "#square bracket with elements in it\n",
    "fruit_list = [\"Strawberries\", \"Spinach\", \"Kale\"]\n",
    "fruit_list[0]\n",
    "#Index starts at 0"
   ]
  },
  {
   "cell_type": "code",
   "execution_count": 8,
   "metadata": {},
   "outputs": [],
   "source": [
    "fruit_list[-1]\n",
    "#Negative means it will start from last\n",
    "\n",
    "#Altering items of list\n",
    "fruit_list[0] = \"Banana\""
   ]
  },
  {
   "cell_type": "code",
   "execution_count": 9,
   "metadata": {},
   "outputs": [],
   "source": [
    "fruit_list\n",
    "#Adding new elements to the list\n",
    "fruit_list.append(\"Strawberries\")\n",
    "\n",
    "#.extend - add another list to previous list, .pop"
   ]
  },
  {
   "cell_type": "code",
   "execution_count": 10,
   "metadata": {},
   "outputs": [
    {
     "data": {
      "text/plain": [
       "['Banana', 'Spinach', 'Kale', 'Strawberries']"
      ]
     },
     "execution_count": 10,
     "metadata": {},
     "output_type": "execute_result"
    }
   ],
   "source": [
    "fruit_list"
   ]
  },
  {
   "cell_type": "code",
   "execution_count": 14,
   "metadata": {},
   "outputs": [
    {
     "name": "stdout",
     "output_type": "stream",
     "text": [
      "Give me everybody's names, separated by a comma. earl, kaushik, sagun, raj\n",
      "raj is going to buy the meal today!\n"
     ]
    }
   ],
   "source": [
    "import random\n",
    "\n",
    "# Split string method\n",
    "names_string = input(\"Give me everybody's names, separated by a comma. \")\n",
    "names = names_string.split(\", \")\n",
    "\n",
    "count = random.randint(1,len(names)-1)\n",
    "\n",
    "bill_by = names[count]\n",
    "\n",
    "print(f\"{bill_by} is going to buy the meal today!\")\n",
    "\n",
    "#random.choice will pick a random element"
   ]
  },
  {
   "cell_type": "code",
   "execution_count": 13,
   "metadata": {},
   "outputs": [],
   "source": [
    "# Index out of range error - when you extract more than length of list\n",
    "# len(x)-1"
   ]
  },
  {
   "cell_type": "code",
   "execution_count": 14,
   "metadata": {},
   "outputs": [
    {
     "data": {
      "text/plain": [
       "[['a', 'b', 'c', 'd'], ['w', 'x', 'y', 'z']]"
      ]
     },
     "execution_count": 14,
     "metadata": {},
     "output_type": "execute_result"
    }
   ],
   "source": [
    "# seperate list inside a list - nested list\n",
    "\n",
    "list1 = [\"a\",\"b\",\"c\",\"d\"]\n",
    "list2 = [\"w\",\"x\",\"y\",\"z\"]\n",
    "\n",
    "list0 = [list1, list2]\n",
    "list0"
   ]
  },
  {
   "cell_type": "code",
   "execution_count": 15,
   "metadata": {},
   "outputs": [
    {
     "data": {
      "text/plain": [
       "'x'"
      ]
     },
     "execution_count": 15,
     "metadata": {},
     "output_type": "execute_result"
    }
   ],
   "source": [
    "list0[1][1]"
   ]
  },
  {
   "cell_type": "code",
   "execution_count": 16,
   "metadata": {},
   "outputs": [
    {
     "name": "stdout",
     "output_type": "stream",
     "text": [
      "['⬜️', '⬜️', '⬜️']\n",
      "['⬜️', '⬜️', '⬜️']\n",
      "['⬜️', '⬜️', '⬜️']\n",
      "Where do you want to put the treasure? 23\n",
      "['⬜️', '⬜️', '⬜️']\n",
      "['⬜️', '⬜️', 'X']\n",
      "['⬜️', '⬜️', '⬜️']\n"
     ]
    }
   ],
   "source": [
    "# 🚨 Don't change the code below 👇\n",
    "row1 = [\"⬜️\",\"⬜️\",\"⬜️\"]\n",
    "row2 = [\"⬜️\",\"⬜️\",\"⬜️\"]\n",
    "row3 = [\"⬜️\",\"⬜️\",\"⬜️\"]\n",
    "map = [row1, row2, row3]\n",
    "print(f\"{row1}\\n{row2}\\n{row3}\")\n",
    "position = input(\"Where do you want to put the treasure? \")\n",
    "# 🚨 Don't change the code above 👆\n",
    "\n",
    "#Write your code below this row 👇\n",
    "\n",
    "\n",
    "first = int(position[0])\n",
    "second = int(position[1])\n",
    "\n",
    "map[first-1][second-1] = \"X\"\n",
    "\n",
    "print(f\"{row1}\\n{row2}\\n{row3}\")"
   ]
  },
  {
   "cell_type": "code",
   "execution_count": 10,
   "metadata": {},
   "outputs": [],
   "source": [
    "rock = '''\n",
    "    _______\n",
    "---'   ____)\n",
    "      (_____)\n",
    "      (_____)\n",
    "      (____)\n",
    "---.__(___)\n",
    "'''\n",
    "\n",
    "paper = '''\n",
    "    _______\n",
    "---'   ____)____\n",
    "          ______)\n",
    "          _______)\n",
    "         _______)\n",
    "---.__________)\n",
    "'''\n",
    "\n",
    "scissors = '''\n",
    "    _______\n",
    "---'   ____)____\n",
    "          ______)\n",
    "       __________)\n",
    "      (____)\n",
    "---.__(___)\n",
    "'''"
   ]
  },
  {
   "cell_type": "code",
   "execution_count": 13,
   "metadata": {},
   "outputs": [
    {
     "name": "stdout",
     "output_type": "stream",
     "text": [
      "rock, paper, or scissors?:rock\n",
      "You chose: rock\n",
      "\n",
      "    _______\n",
      "---'   ____)\n",
      "      (_____)\n",
      "      (_____)\n",
      "      (____)\n",
      "---.__(___)\n",
      "\n",
      "Computer chose: scissors\n",
      "\n",
      "    _______\n",
      "---'   ____)____\n",
      "          ______)\n",
      "       __________)\n",
      "      (____)\n",
      "---.__(___)\n",
      "\n",
      "You win!\n"
     ]
    }
   ],
   "source": [
    "choice_user = input(\"rock, paper, or scissors?:\").lower()\n",
    "print(f\"You chose: {choice_user}\")\n",
    "if choice_user == \"rock\":\n",
    "    print(rock)\n",
    "elif choice_user == \"paper\":\n",
    "    print(paper)\n",
    "else:\n",
    "    print(scissors)\n",
    "\n",
    "list_choice = [\"rock\", \"paper\", \"scissors\"]\n",
    "\n",
    "computer_choice = list_choice[random.randint(1,3)-1]\n",
    "print(f\"Computer chose: {computer_choice}\")\n",
    "if computer_choice == \"rock\":\n",
    "    print(rock)\n",
    "elif computer_choice == \"paper\":\n",
    "    print(paper)\n",
    "else:\n",
    "    print(scissors)\n",
    "    \n",
    "if choice_user == \"rock\" and computer_choice == \"rock\":\n",
    "    print(\"Its a tie\")\n",
    "elif choice_user == \"rock\" and computer_choice == \"paper\":\n",
    "    print(\"You lose!\")\n",
    "elif choice_user == \"rock\" and computer_choice == \"scissors\":\n",
    "    print(\"You win!\")\n",
    "elif choice_user == \"paper\" and computer_choice == \"paper\":\n",
    "    print(\"Its a tie!\")\n",
    "elif choice_user == \"paper\" and computer_choice == \"rock\":\n",
    "    print(\"You win!\")\n",
    "elif choice_user == \"paper\" and computer_choice == \"scissors\":\n",
    "    print(\"You lose!\")\n",
    "elif choice_user == \"scissors\" and computer_choice == \"scissors\":\n",
    "    print(\"Its a tie!\")\n",
    "elif choice_user == \"scissors\" and computer_choice == \"paper\":\n",
    "    print(\"You win!\")\n",
    "elif choice_user == \"scissors\" and computer_choice == \"rock\":\n",
    "    print(\"You lose!\")\n",
    "else:\n",
    "    print(\"Error!\")"
   ]
  },
  {
   "cell_type": "code",
   "execution_count": null,
   "metadata": {},
   "outputs": [],
   "source": []
  },
  {
   "cell_type": "code",
   "execution_count": null,
   "metadata": {},
   "outputs": [],
   "source": []
  },
  {
   "cell_type": "code",
   "execution_count": null,
   "metadata": {},
   "outputs": [],
   "source": []
  },
  {
   "cell_type": "code",
   "execution_count": null,
   "metadata": {},
   "outputs": [],
   "source": []
  },
  {
   "cell_type": "code",
   "execution_count": null,
   "metadata": {},
   "outputs": [],
   "source": []
  },
  {
   "cell_type": "code",
   "execution_count": null,
   "metadata": {},
   "outputs": [],
   "source": []
  },
  {
   "cell_type": "code",
   "execution_count": null,
   "metadata": {},
   "outputs": [],
   "source": []
  },
  {
   "cell_type": "code",
   "execution_count": null,
   "metadata": {},
   "outputs": [],
   "source": []
  }
 ],
 "metadata": {
  "kernelspec": {
   "display_name": "Python 3",
   "language": "python",
   "name": "python3"
  },
  "language_info": {
   "codemirror_mode": {
    "name": "ipython",
    "version": 3
   },
   "file_extension": ".py",
   "mimetype": "text/x-python",
   "name": "python",
   "nbconvert_exporter": "python",
   "pygments_lexer": "ipython3",
   "version": "3.7.6"
  }
 },
 "nbformat": 4,
 "nbformat_minor": 4
}
