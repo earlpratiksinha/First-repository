{
 "cells": [
  {
   "cell_type": "code",
   "execution_count": 3,
   "metadata": {},
   "outputs": [],
   "source": [
    "# Python dictionary and auction\n",
    "#Nesting dictionary inside dictionary, list inside list"
   ]
  },
  {
   "cell_type": "code",
   "execution_count": 4,
   "metadata": {},
   "outputs": [],
   "source": [
    "#{\"key\":\"value\"}"
   ]
  },
  {
   "cell_type": "code",
   "execution_count": 5,
   "metadata": {},
   "outputs": [],
   "source": [
    "#print(dictionary_a[\"Key\"]) - this will give value and not key"
   ]
  },
  {
   "cell_type": "code",
   "execution_count": 6,
   "metadata": {},
   "outputs": [],
   "source": [
    "#Adding new ithem to the dictionary\n",
    "#dictionary_a[\"New Key\"]= \"Definition of new key\"\n",
    "#Good to start with an empty dictionary\n",
    "\n",
    "#Wipe an existing dictionary\n",
    "#dictionary_a={}\n",
    "\n",
    "#Edit an item in a dictionary\n",
    "#dictionary_a[\"key\"]=\"Something new\""
   ]
  },
  {
   "cell_type": "code",
   "execution_count": 7,
   "metadata": {},
   "outputs": [],
   "source": [
    "#print key in dictionary_a:\n",
    "#    print(key) This will give key\n",
    "#    print(dictionary_a[key]) This will give value of key"
   ]
  },
  {
   "cell_type": "code",
   "execution_count": 9,
   "metadata": {},
   "outputs": [
    {
     "name": "stdout",
     "output_type": "stream",
     "text": [
      "{'Harry': 'Exceeds Expectations', 'Ron': 'Acceptable', 'Hermione': 'Outstanding', 'Draco': 'Acceptable', 'Neville': 'Fail'}\n"
     ]
    }
   ],
   "source": [
    "student_scores = {\n",
    "  \"Harry\": 81,\n",
    "  \"Ron\": 78,\n",
    "  \"Hermione\": 99, \n",
    "  \"Draco\": 74,\n",
    "  \"Neville\": 62,\n",
    "}\n",
    "\n",
    "student_grades ={}\n",
    "\n",
    "for student in student_scores:\n",
    "    score = student_scores[student]\n",
    "    if score > 90:\n",
    "        student_grades[student] = \"Outstanding\"\n",
    "    elif score > 80:\n",
    "        student_grades[student] = \"Exceeds Expectations\"\n",
    "    elif score > 70:\n",
    "        student_grades[student] = \"Acceptable\"\n",
    "    else:\n",
    "        student_grades[student] = \"Fail\"\n",
    "\n",
    "print(student_grades)"
   ]
  },
  {
   "cell_type": "code",
   "execution_count": null,
   "metadata": {},
   "outputs": [],
   "source": [
    "#Value can  be list, string, dictionary\n",
    "#Nesting \n",
    "capitals = {\n",
    "  \"France\": \"Paris\",\n",
    "  \"Germany\": \"Berlin\",\n",
    "}\n",
    "\n",
    "#Nesting a List in a Dictionary\n",
    "\n",
    "travel_log = {\n",
    "  \"France\": [\"Paris\", \"Lille\", \"Dijon\"],\n",
    "  \"Germany\": [\"Berlin\", \"Hamburg\", \"Stuttgart\"],\n",
    "}\n",
    "\n",
    "#Nesting Dictionary in a Dictionary\n",
    "\n",
    "travel_log = {\n",
    "  \"France\": {\"cities_visited\": [\"Paris\", \"Lille\", \"Dijon\"], \"total_visits\": 12},\n",
    "  \"Germany\": {\"cities_visited\": [\"Berlin\", \"Hamburg\", \"Stuttgart\"], \"total_visits\": 5},\n",
    "}\n",
    "\n",
    "#Nesting Dictionaries in Lists\n",
    "\n",
    "travel_log = [\n",
    "{\n",
    "  \"country\": \"France\", \n",
    "  \"cities_visited\": [\"Paris\", \"Lille\", \"Dijon\"], \n",
    "  \"total_visits\": 12,\n",
    "},\n",
    "{\n",
    "  \"country\": \"Germany\",\n",
    "  \"cities_visited\": [\"Berlin\", \"Hamburg\", \"Stuttgart\"],\n",
    "  \"total_visits\": 5,\n",
    "},\n",
    "]"
   ]
  },
  {
   "cell_type": "code",
   "execution_count": null,
   "metadata": {},
   "outputs": [],
   "source": []
  }
 ],
 "metadata": {
  "kernelspec": {
   "display_name": "Python 3",
   "language": "python",
   "name": "python3"
  },
  "language_info": {
   "codemirror_mode": {
    "name": "ipython",
    "version": 3
   },
   "file_extension": ".py",
   "mimetype": "text/x-python",
   "name": "python",
   "nbconvert_exporter": "python",
   "pygments_lexer": "ipython3",
   "version": "3.7.6"
  }
 },
 "nbformat": 4,
 "nbformat_minor": 4
}
